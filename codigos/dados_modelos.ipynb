{
  "nbformat": 4,
  "nbformat_minor": 0,
  "metadata": {
    "colab": {
      "provenance": [],
      "authorship_tag": "ABX9TyM3iVRyVrzVlj90s92SEvtE",
      "include_colab_link": true
    },
    "kernelspec": {
      "name": "python3",
      "display_name": "Python 3"
    },
    "language_info": {
      "name": "python"
    }
  },
  "cells": [
    {
      "cell_type": "markdown",
      "metadata": {
        "id": "view-in-github",
        "colab_type": "text"
      },
      "source": [
        "<a href=\"https://colab.research.google.com/github/mozz99/wirelessinsite/blob/main/codigos/dados_modelos.ipynb\" target=\"_parent\"><img src=\"https://colab.research.google.com/assets/colab-badge.svg\" alt=\"Open In Colab\"/></a>"
      ]
    },
    {
      "cell_type": "code",
      "execution_count": null,
      "metadata": {
        "id": "dajPQ_nsgb2F"
      },
      "outputs": [],
      "source": [
        "import numpy as np\n",
        "import matplotlib.pyplot as plt\n",
        "import pandas as pd"
      ]
    },
    {
      "cell_type": "code",
      "source": [
        "def float_intercept(dados):\n",
        "  d = dados['Distance(m)']\n",
        "  pl = dados['Path_Loss(dB)']\n",
        "\n",
        "# pl = prx\n",
        "\n",
        "  # Cálculo Beta\n",
        "  logd = 10 * np.log10(d)\n",
        "  b = (np.sum(logd)) ** 2\n",
        "  a = np.sum(logd ** 2)\n",
        "  denbeta = a - (b / len(logd))\n",
        "  numbeta = np.sum((logd * pl)) - ((np.sum(logd) * np.sum(pl)) / len(logd))\n",
        "  beta = numbeta / denbeta\n",
        "\n",
        "  # Cálculo alfa\n",
        "  y = np.sum(pl) / len(pl)\n",
        "  x = np.sum(logd) / len(logd)\n",
        "  alfa = y - beta * x\n",
        "\n",
        "  # Float Intercept\n",
        "  fi = alfa + 10 * beta * np.log10(d)\n",
        "\n",
        "  # Cálculo do Erro Quadrático Médio (MSE)\n",
        "  MSE = np.sqrt(np.sum((pl - fi) ** 2) / len(pl))\n",
        "  print(\"Rmse: \",MSE)\n",
        "  return fi"
      ],
      "metadata": {
        "id": "c0CYp5mTgd_0"
      },
      "execution_count": null,
      "outputs": []
    },
    {
      "cell_type": "code",
      "source": [
        "def close_in(dados):\n",
        "  d0 = 1  # Distância de referência em metros\n",
        "\n",
        "  y = (3 * 10 ** 8) / (3.5 * 10 ** 9)\n",
        "\n",
        "  # Separando as colunas\n",
        "  d = dados['Distance(m)']\n",
        "  pt = 51\n",
        "  L = dados['Path_Loss(dB)']\n",
        "\n",
        "\n",
        "  # Definição das variáveis de entrada\n",
        "  d0 = 1\n",
        "  prxo = pt - L[0]\n",
        "\n",
        "  Lo = 20 * np.log10((4 * np.pi) / y)  # path loss da primeira medida\n",
        "  D = 10 * np.log10(d / d0)\n",
        "  D = np.array(D)\n",
        "  n = np.linalg.lstsq(D.reshape(-1, 1), (L - Lo), rcond=None)[0]  # regressão linear\n",
        "\n",
        "  # Cálculo da potência do sinal recebido\n",
        "  ci = 20 * np.log10((4 * np.pi * d0) / y) + 10 * n[0] * np.log10(d / d0)\n",
        "  MSE = np.sqrt(np.sum((L - ci) ** 2) / len(L))\n",
        "  print(\"Rmse: \",MSE)\n",
        "  print(\"PLE: \", n[0])\n",
        "  return ci"
      ],
      "metadata": {
        "id": "TSw7DLOfgi9a"
      },
      "execution_count": null,
      "outputs": []
    },
    {
      "cell_type": "code",
      "source": [
        "def plot_model(model_1,model_2,dados,title):\n",
        "  d = dados['Distance(m)']\n",
        "  pl = dados['Path_Loss(dB)']\n",
        "\n",
        "  plt.figure(figsize=(12,6))\n",
        "  plt.plot(d, model_1,'-b', label=f'modelo fi')\n",
        "  plt.plot(d,model_2,'-r',label='modelo ci')\n",
        "  plt.scatter(d, pl,label='dados simulados')  # Use 'o-' para plotar pontos conectados por linhas\n",
        "  plt.grid(True)\n",
        "  plt.xticks(np.arange(17, 40, step=1))\n",
        "  plt.xlabel('Distância (m)')\n",
        "  plt.ylabel('Path Loss (dB)')\n",
        "  plt.title('Modelos de Propagação ci x fi rota x')\n",
        "  plt.legend()\n",
        "  plt.title(f\"{title}\")\n",
        "  plt.show()"
      ],
      "metadata": {
        "id": "Oj9hTKx3gl8X"
      },
      "execution_count": null,
      "outputs": []
    },
    {
      "cell_type": "code",
      "source": [
        "def diferença_sim_real(medidor1,simulador1,medidor2,simulador2):\n",
        "  a = np.arange(18.0991,38.8226,0.58)\n",
        "  b = np.arange(19.0286, 39.2583,0.75)\n",
        "  simulador1['Distance(m)'],medidor1['Distance(m)'] = a,a\n",
        "  simulador2['Distance(m)'],medidor2['Distance(m)'] = b,b\n",
        "  MSE_1 = np.sqrt(np.sum((medidor1['Path_Loss(dB)'] - simulador1['Path_Loss(dB)']) ** 2) / len(a))\n",
        "  MSE_2 = np.sqrt(np.sum((medidor2['Path_Loss(dB)'] - simulador2['Path_Loss(dB)']) ** 2) / len(b))\n",
        "  return MSE_1,MSE_2"
      ],
      "metadata": {
        "id": "UWcdlcpEhTz3"
      },
      "execution_count": null,
      "outputs": []
    },
    {
      "cell_type": "code",
      "source": [
        "a = np.arange(18.0991,38.8226,0.58)\n",
        "b = np.arange(19.0286, 39.2583,0.75)\n",
        "\n",
        "\n",
        "medidor1 = pd.read_csv('medido1.csv')\n",
        "medidor2 = pd.read_csv('medido2.csv')\n",
        "\n",
        "plt.scatter(medidor1['Distance(m)'],medidor1['Path_Loss(dB)'],label='rota 1')\n",
        "plt.scatter(medidor2['Distance(m)'],medidor2['Path_Loss(dB)'],label='rota 2')\n",
        "plt.legend()\n",
        "plt.title('dados medidos')\n",
        "plt.grid()\n",
        "plt.show()"
      ],
      "metadata": {
        "id": "cmcCpej_hZDr"
      },
      "execution_count": null,
      "outputs": []
    },
    {
      "cell_type": "code",
      "source": [
        "sim_r1 = 'SETUPHALL.pl.t001_09.r016.p2m'\n",
        "sim_r2 = 'SETUPHALL.pl.t001_09.r017.p2m'\n",
        "# Carregar o arquivo de texto usando o separador padrão (espaço)\n",
        "\n",
        "convert1 = pd.read_csv(sim_r1, sep='\\s+')\n",
        "convert2 = pd.read_csv(sim_r2, sep='\\s+')\n",
        "\n",
        "# Salvar DataFrame como CSV\n",
        "convert1.to_csv('arquivo_convertido1.csv', index=False)\n",
        "convert2.to_csv('arquivo_convertido2.csv', index=False)\n",
        "\n",
        "simur1 = pd.read_csv('arquivo_convertido1.csv')\n",
        "simur2 = pd.read_csv('arquivo_convertido2.csv')\n",
        "\n",
        "simur1['Distance(m)'],medidor1['Distance(m)'] = a,a\n",
        "simur2['Distance(m)'],medidor2['Distance(m)'] = b,b"
      ],
      "metadata": {
        "id": "ePlp2_qdhcdH"
      },
      "execution_count": null,
      "outputs": []
    },
    {
      "cell_type": "code",
      "source": [
        "plt.scatter(simur1['Distance(m)'],simur1['Path_Loss(dB)'],label='rota 1')\n",
        "plt.scatter(simur2['Distance(m)'],simur2['Path_Loss(dB)'],label='rota 2')\n",
        "plt.title('dados simulados')\n",
        "plt.legend()\n",
        "plt.grid()\n",
        "plt.show()"
      ],
      "metadata": {
        "id": "dkdgcekThcg4"
      },
      "execution_count": null,
      "outputs": []
    },
    {
      "cell_type": "code",
      "source": [
        "fi1 = float_intercept(simur1)\n",
        "ci1 = close_in(simur1)\n",
        "plot_model(fi1,ci1,simur1,\"rota 1\")\n",
        "\n",
        "fi2 = float_intercept(simur2)\n",
        "ci2 = close_in(simur2)\n",
        "plot_model(fi2,ci2,simur2,\"rota 2\")\n",
        "\n",
        "plt.plot(simur1['Distance(m)'],simur1['Path_Loss(dB)'],'-ob',label='simulado')\n",
        "plt.plot(medidor1['Distance(m)'],medidor1['Path_Loss(dB)'],'-*r',label='medido')\n",
        "plt.legend()\n",
        "plt.xlabel(\"Distancia (m)\")\n",
        "plt.ylabel(\"Path Loss (dB)\")\n",
        "plt.grid()\n",
        "plt.title(\"sim x med rota 1\")\n",
        "plt.show()"
      ],
      "metadata": {
        "id": "-lOv3QZohckJ"
      },
      "execution_count": null,
      "outputs": []
    },
    {
      "cell_type": "code",
      "source": [
        "plt.plot(simur2['Distance(m)'],simur2['Path_Loss(dB)'],'-ob',label='simulado')\n",
        "plt.plot(medidor2['Distance(m)'],medidor2['Path_Loss(dB)'],'-*r',label='medido')\n",
        "plt.legend()\n",
        "plt.title(\"sim x med rota 2\")\n",
        "plt.grid()\n",
        "plt.xlabel(\"Distancia (m)\")\n",
        "plt.ylabel(\"Path Loss (dB)\")\n",
        "plt.show()\n",
        "print(diferença_sim_real(simur1,medidor1,simur2,medidor2))"
      ],
      "metadata": {
        "id": "V-lKqAIChiv8"
      },
      "execution_count": null,
      "outputs": []
    }
  ]
}